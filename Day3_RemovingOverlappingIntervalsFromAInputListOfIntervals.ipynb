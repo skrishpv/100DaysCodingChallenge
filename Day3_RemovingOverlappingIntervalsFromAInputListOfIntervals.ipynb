{
 "cells": [
  {
   "cell_type": "code",
   "execution_count": 1,
   "metadata": {},
   "outputs": [],
   "source": [
    "class CoveredIntervalRemover(object):\n",
    "    \n",
    "    def removeCoveredIntervals(self, intervals):\n",
    "        countCoveredInterval = {}\n",
    "        for i in range(len(intervals)):\n",
    "            for j in range(i+1,len(intervals)):\n",
    "                if i == j :continue\n",
    "                if intervals[i][0] <= intervals[j][0] and intervals[i][1] >= intervals[j][1]:\n",
    "                    countCoveredInterval[j] = 1\n",
    "                elif intervals[j][0] <= intervals[i][0] and intervals[j][1] >= intervals[i][1]:\n",
    "                    countCoveredInterval[i] = 1 \n",
    "        return len(intervals)-len(countCoveredInterval)"
   ]
  },
  {
   "cell_type": "code",
   "execution_count": 2,
   "metadata": {},
   "outputs": [],
   "source": [
    "coveredIntervalRemover = CoveredIntervalRemover()"
   ]
  },
  {
   "cell_type": "code",
   "execution_count": 3,
   "metadata": {},
   "outputs": [
    {
     "name": "stdout",
     "output_type": "stream",
     "text": [
      "1\n",
      "2\n",
      "2\n",
      "1\n",
      "2\n"
     ]
    }
   ],
   "source": [
    "result = coveredIntervalRemover.removeCoveredIntervals(intervals = [[1,2],[1,4],[3,4]]);\n",
    "print(result)\n",
    "result = coveredIntervalRemover.removeCoveredIntervals(intervals = [[3,10],[4,10],[5,11]]);\n",
    "print(result)\n",
    "result = coveredIntervalRemover.removeCoveredIntervals(intervals = [[0,10],[5,12]]);\n",
    "print(result)\n",
    "result = coveredIntervalRemover.removeCoveredIntervals(intervals = [[1,4],[2,3]]);\n",
    "print(result)\n",
    "result = coveredIntervalRemover.removeCoveredIntervals(intervals = [[1,4],[3,6],[2,8]]);\n",
    "print(result)"
   ]
  },
  {
   "cell_type": "code",
   "execution_count": null,
   "metadata": {},
   "outputs": [],
   "source": []
  }
 ],
 "metadata": {
  "kernelspec": {
   "display_name": "Python 3",
   "language": "python",
   "name": "python3"
  },
  "language_info": {
   "codemirror_mode": {
    "name": "ipython",
    "version": 3
   },
   "file_extension": ".py",
   "mimetype": "text/x-python",
   "name": "python",
   "nbconvert_exporter": "python",
   "pygments_lexer": "ipython3",
   "version": "3.7.3"
  }
 },
 "nbformat": 4,
 "nbformat_minor": 2
}
