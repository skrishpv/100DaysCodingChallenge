{
 "cells": [
  {
   "cell_type": "markdown",
   "metadata": {},
   "source": [
    "## Post to Linkedin using Selenium"
   ]
  },
  {
   "cell_type": "code",
   "execution_count": 47,
   "metadata": {},
   "outputs": [],
   "source": [
    "#import chrome webdriver\n",
    "from selenium import webdriver\n",
    "#import the python script .py package we created to securely store our credentials and also read the Post content from our text file.\n",
    "from UserInputs import user, password, post\n"
   ]
  },
  {
   "cell_type": "code",
   "execution_count": 51,
   "metadata": {},
   "outputs": [],
   "source": [
    "# Instantiate the chrome web driver to open chrome\n",
    "browser = webdriver.Chrome('chromedriver.exe')"
   ]
  },
  {
   "cell_type": "code",
   "execution_count": 52,
   "metadata": {},
   "outputs": [],
   "source": [
    "#Open Linkedin Login page\n",
    "browser.get('https://www.linkedin.com/login?fromSignIn=true&trk=guest_homepage-basic_nav-header-signin')\n",
    "\n"
   ]
  },
  {
   "cell_type": "code",
   "execution_count": 53,
   "metadata": {
    "scrolled": true
   },
   "outputs": [],
   "source": [
    "#Enter login info:\n",
    "# here we use the username and password we provided in the UserInputs we imported. To use your creds modify the UserInputs.py file\n",
    "elementID = browser.find_element_by_id('username')\n",
    "elementID.send_keys(user)\n",
    "\n",
    "elementID = browser.find_element_by_id('password')\n",
    "elementID.send_keys(password)\n",
    "elementID.submit()\n",
    "\n"
   ]
  },
  {
   "cell_type": "markdown",
   "metadata": {},
   "source": [
    "To find the Xpath of 'start post' button we can use inspect element option in Chrome and then right click on the source code of our element and copy the Xpath."
   ]
  },
  {
   "cell_type": "code",
   "execution_count": 58,
   "metadata": {},
   "outputs": [],
   "source": [
    "# Xpath of 'start a post' button\n",
    "start_share_button = '/html/body/div[7]/div[3]/div/div/div/div/div[1]/div/div[1]/button'\n",
    "# Xpath of post input box\n",
    "to_talk_about = '/html/body/div[4]/div/div/div[2]/div/div[1]/div[1]/div[2]/div/div/div/div/div[1]' \n",
    "# xpath of 'post' button\n",
    "post_button = '//*[contains(@class,\"share-actions__primary-action\")]'"
   ]
  },
  {
   "cell_type": "code",
   "execution_count": 55,
   "metadata": {},
   "outputs": [],
   "source": [
    "# find button to start a post using Xpath\n",
    "start_post = browser.find_element_by_xpath(start_share_button)\n",
    "# and click to start the post\n",
    "start_post.click()"
   ]
  },
  {
   "cell_type": "code",
   "execution_count": 56,
   "metadata": {},
   "outputs": [],
   "source": [
    "# find post input box (now open) via Xpath\n",
    "post_box = browser.find_element_by_xpath(to_talk_about)"
   ]
  },
  {
   "cell_type": "code",
   "execution_count": 57,
   "metadata": {},
   "outputs": [],
   "source": [
    "# type out the content (input from \"post\" variable we imported from the UserInputs.py file)\n",
    "post_box.send_keys(post)"
   ]
  },
  {
   "cell_type": "code",
   "execution_count": 44,
   "metadata": {},
   "outputs": [],
   "source": [
    "# find the post button using the Xpath\n",
    "post_now = browser.find_element_by_xpath(post_button)\n",
    "# and click to post\n",
    "post_now.click()"
   ]
  },
  {
   "cell_type": "code",
   "execution_count": 62,
   "metadata": {},
   "outputs": [],
   "source": [
    "# Close the webdriver instance of chrome once we are done with the task\n",
    "browser.quit()"
   ]
  }
 ],
 "metadata": {
  "kernelspec": {
   "display_name": "Python 3",
   "language": "python",
   "name": "python3"
  },
  "language_info": {
   "codemirror_mode": {
    "name": "ipython",
    "version": 3
   },
   "file_extension": ".py",
   "mimetype": "text/x-python",
   "name": "python",
   "nbconvert_exporter": "python",
   "pygments_lexer": "ipython3",
   "version": "3.7.3"
  }
 },
 "nbformat": 4,
 "nbformat_minor": 2
}
