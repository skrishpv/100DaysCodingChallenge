{
 "cells": [
  {
   "cell_type": "markdown",
   "metadata": {},
   "source": [
    "### Day 22: LeetCode November Challenge 11/6"
   ]
  },
  {
   "cell_type": "code",
   "execution_count": 18,
   "metadata": {},
   "outputs": [],
   "source": [
    "class Solution(object):\n",
    "  def smallestDivisor(nums, threshold):\n",
    "    def calculateSum(divisor, xs):\n",
    "      return sum([x // divisor + 1 if x % divisor else x // divisor for x in xs])\n",
    "\n",
    "    i, j = 1, 10 ** 6\n",
    "    while i + 1 < j:\n",
    "      mid = (i + j) // 2\n",
    "      if calculateSum(mid, nums) > threshold:\n",
    "        i = mid\n",
    "      else: j = mid\n",
    "    return i if calculateSum(i, nums) <= threshold else j\n",
    "     "
   ]
  },
  {
   "cell_type": "code",
   "execution_count": 19,
   "metadata": {},
   "outputs": [
    {
     "name": "stdout",
     "output_type": "stream",
     "text": [
      "5\n"
     ]
    }
   ],
   "source": [
    "# Test case 1\n",
    "nums = [1,2,5,9]\n",
    "threshold = 6\n",
    "print(Solution.smallestDivisor(nums, threshold))   "
   ]
  }
 ],
 "metadata": {
  "kernelspec": {
   "display_name": "Python 3",
   "language": "python",
   "name": "python3"
  },
  "language_info": {
   "codemirror_mode": {
    "name": "ipython",
    "version": 3
   },
   "file_extension": ".py",
   "mimetype": "text/x-python",
   "name": "python",
   "nbconvert_exporter": "python",
   "pygments_lexer": "ipython3",
   "version": "3.7.3"
  }
 },
 "nbformat": 4,
 "nbformat_minor": 2
}
