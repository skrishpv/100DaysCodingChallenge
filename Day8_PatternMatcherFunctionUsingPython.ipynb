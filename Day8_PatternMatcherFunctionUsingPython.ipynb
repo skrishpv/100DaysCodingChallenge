{
 "cells": [
  {
   "cell_type": "code",
   "execution_count": 1,
   "metadata": {},
   "outputs": [],
   "source": [
    "class PatternMatcher(object):\n",
    "    def isMatch(self, s, p):\n",
    "        \"\"\"\n",
    "        :type s: str\n",
    "        :type p: str\n",
    "        :rtype: bool\n",
    "        \"\"\"\n",
    "        a,b = len(s),len(p)\n",
    "        \n",
    "        DP = [[False for j in range(b+1)] for i in range(a+1)]  \n",
    "        \n",
    "        DP[0][0] = True\n",
    "        \n",
    "        for i in range(a+1):\n",
    "            for j in range(1,b+1):\n",
    "                if p[j-1]==\"*\":\n",
    "                    DP[i][j] = DP[i][j-2] or i>0 and DP[i-1][j] and (s[i-1]==p[j-2] or p[j-2]==\".\")\n",
    "                else:\n",
    "                    DP[i][j] = i>0 and DP[i-1][j-1] and (s[i-1]==p[j-1] or p[j-1]==\".\")\n",
    "        \n",
    "        return DP[-1][-1]"
   ]
  },
  {
   "cell_type": "code",
   "execution_count": 2,
   "metadata": {},
   "outputs": [],
   "source": [
    "patternMatcher = PatternMatcher()"
   ]
  },
  {
   "cell_type": "code",
   "execution_count": 3,
   "metadata": {},
   "outputs": [
    {
     "name": "stdout",
     "output_type": "stream",
     "text": [
      "False\n",
      "True\n",
      "True\n",
      "True\n",
      "False\n"
     ]
    }
   ],
   "source": [
    "result = patternMatcher.isMatch(s = \"aa\", p = \"a\");\n",
    "print(result)\n",
    "result = patternMatcher.isMatch(s = \"aa\", p = \"a*\");\n",
    "print(result)\n",
    "result = patternMatcher.isMatch(s = \"ab\", p = \".*\");\n",
    "print(result)\n",
    "result = patternMatcher.isMatch(s = \"aab\", p = \"c*a*b\");\n",
    "print(result)\n",
    "result = patternMatcher.isMatch(s = \"mississippi\", p = \"mis*is*p*.\");\n",
    "print(result)"
   ]
  }
 ],
 "metadata": {
  "kernelspec": {
   "display_name": "Python 3",
   "language": "python",
   "name": "python3"
  },
  "language_info": {
   "codemirror_mode": {
    "name": "ipython",
    "version": 3
   },
   "file_extension": ".py",
   "mimetype": "text/x-python",
   "name": "python",
   "nbconvert_exporter": "python",
   "pygments_lexer": "ipython3",
   "version": "3.7.3"
  }
 },
 "nbformat": 4,
 "nbformat_minor": 2
}
