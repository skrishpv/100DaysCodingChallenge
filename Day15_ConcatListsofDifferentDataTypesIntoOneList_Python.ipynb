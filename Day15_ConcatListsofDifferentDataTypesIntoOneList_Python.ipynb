{
 "cells": [
  {
   "cell_type": "markdown",
   "metadata": {},
   "source": [
    "### Concat Individual lists with Int and Strings to form a new List"
   ]
  },
  {
   "cell_type": "code",
   "execution_count": 16,
   "metadata": {},
   "outputs": [],
   "source": [
    "coefficients = [0.005, 0.02,0.07]\n",
    "months = ['Jan', 'Feb', 'Mar', 'Apr', 'May', 'Jun', 'Jul', 'Aug', 'Sep', 'Oct', 'Nov', 'Dec']\n",
    "investments = ['1', '3','7']\n",
    "decisionVariables = []\n",
    "objectiveFunction =[]"
   ]
  },
  {
   "cell_type": "code",
   "execution_count": 17,
   "metadata": {},
   "outputs": [],
   "source": [
    "for i in range(len(months)):\n",
    "    for j in range(len(investments)):\n",
    "        decisionVariables.append('X'+months[i]+investments[j])"
   ]
  },
  {
   "cell_type": "code",
   "execution_count": 18,
   "metadata": {},
   "outputs": [
    {
     "data": {
      "text/plain": [
       "['XJan1',\n",
       " 'XJan3',\n",
       " 'XJan7',\n",
       " 'XFeb1',\n",
       " 'XFeb3',\n",
       " 'XFeb7',\n",
       " 'XMar1',\n",
       " 'XMar3',\n",
       " 'XMar7',\n",
       " 'XApr1',\n",
       " 'XApr3',\n",
       " 'XApr7',\n",
       " 'XMay1',\n",
       " 'XMay3',\n",
       " 'XMay7',\n",
       " 'XJun1',\n",
       " 'XJun3',\n",
       " 'XJun7',\n",
       " 'XJul1',\n",
       " 'XJul3',\n",
       " 'XJul7',\n",
       " 'XAug1',\n",
       " 'XAug3',\n",
       " 'XAug7',\n",
       " 'XSep1',\n",
       " 'XSep3',\n",
       " 'XSep7',\n",
       " 'XOct1',\n",
       " 'XOct3',\n",
       " 'XOct7',\n",
       " 'XNov1',\n",
       " 'XNov3',\n",
       " 'XNov7',\n",
       " 'XDec1',\n",
       " 'XDec3',\n",
       " 'XDec7']"
      ]
     },
     "execution_count": 18,
     "metadata": {},
     "output_type": "execute_result"
    }
   ],
   "source": [
    "decisionVariables"
   ]
  },
  {
   "cell_type": "code",
   "execution_count": 14,
   "metadata": {},
   "outputs": [],
   "source": [
    "for i in range(len(months)):\n",
    "    for j in range(len(Investments)):\n",
    "        objectiveFunction.append(str(coefficients[j])+'X'+months[i]+Investments[j])"
   ]
  },
  {
   "cell_type": "code",
   "execution_count": 15,
   "metadata": {},
   "outputs": [
    {
     "data": {
      "text/plain": [
       "['0.005XJanA',\n",
       " '0.02XJanB',\n",
       " '0.07XJanC',\n",
       " '0.005XFebA',\n",
       " '0.02XFebB',\n",
       " '0.07XFebC',\n",
       " '0.005XMarA',\n",
       " '0.02XMarB',\n",
       " '0.07XMarC',\n",
       " '0.005XAprA',\n",
       " '0.02XAprB',\n",
       " '0.07XAprC',\n",
       " '0.005XMayA',\n",
       " '0.02XMayB',\n",
       " '0.07XMayC',\n",
       " '0.005XJunA',\n",
       " '0.02XJunB',\n",
       " '0.07XJunC',\n",
       " '0.005XJulA',\n",
       " '0.02XJulB',\n",
       " '0.07XJulC',\n",
       " '0.005XAugA',\n",
       " '0.02XAugB',\n",
       " '0.07XAugC',\n",
       " '0.005XSepA',\n",
       " '0.02XSepB',\n",
       " '0.07XSepC',\n",
       " '0.005XOctA',\n",
       " '0.02XOctB',\n",
       " '0.07XOctC',\n",
       " '0.005XNovA',\n",
       " '0.02XNovB',\n",
       " '0.07XNovC',\n",
       " '0.005XDecA',\n",
       " '0.02XDecB',\n",
       " '0.07XDecC']"
      ]
     },
     "execution_count": 15,
     "metadata": {},
     "output_type": "execute_result"
    }
   ],
   "source": [
    "objectiveFunction"
   ]
  }
 ],
 "metadata": {
  "kernelspec": {
   "display_name": "Python 3",
   "language": "python",
   "name": "python3"
  },
  "language_info": {
   "codemirror_mode": {
    "name": "ipython",
    "version": 3
   },
   "file_extension": ".py",
   "mimetype": "text/x-python",
   "name": "python",
   "nbconvert_exporter": "python",
   "pygments_lexer": "ipython3",
   "version": "3.7.3"
  }
 },
 "nbformat": 4,
 "nbformat_minor": 2
}
